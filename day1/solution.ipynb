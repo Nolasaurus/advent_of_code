{
 "cells": [
  {
   "cell_type": "markdown",
   "metadata": {},
   "source": [
    "You haven't even left yet and the group of Elvish Senior Historians has already hit a problem: their list of locations to check is currently empty. Eventually, someone decides that the best place to check first would be the Chief Historian's office.\n",
    "\n",
    "Upon pouring into the office, everyone confirms that the Chief Historian is indeed nowhere to be found. Instead, the Elves discover an assortment of notes and lists of historically significant locations! This seems to be the planning the Chief Historian was doing before he left. Perhaps these notes can be used to determine which locations to search?\n",
    "\n",
    "Throughout the Chief's office, the historically significant locations are listed not by name but by a unique number called the location ID. To make sure they don't miss anything, The Historians split into two groups, each searching the office and trying to create their own complete list of location IDs.\n",
    "\n",
    "There's just one problem: by holding the two lists up side by side (your puzzle input), it quickly becomes clear that the lists aren't very similar. Maybe you can help The Historians reconcile their lists?\n",
    "\n",
    "For example:\n",
    "\n",
    "3   4\n",
    "4   3\n",
    "2   5\n",
    "1   3\n",
    "3   9\n",
    "3   3\n",
    "\n",
    "Maybe the lists are only off by a small amount! To find out, pair up the numbers and measure how far apart they are. Pair up the smallest number in the left list with the smallest number in the right list, then the second-smallest left number with the second-smallest right number, and so on.\n",
    "\n",
    "Within each pair, figure out how far apart the two numbers are; you'll need to add up all of those distances. For example, if you pair up a 3 from the left list with a 7 from the right list, the distance apart is 4; if you pair up a 9 with a 3, the distance apart is 6.\n",
    "\n",
    "In the example list above, the pairs and distances would be as follows:\n",
    "\n",
    "    The smallest number in the left list is 1, and the smallest number in the right list is 3. The distance between them is 2.\n",
    "    The second-smallest number in the left list is 2, and the second-smallest number in the right list is another 3. The distance between them is 1.\n",
    "    The third-smallest number in both lists is 3, so the distance between them is 0.\n",
    "    The next numbers to pair up are 3 and 4, a distance of 1.\n",
    "    The fifth-smallest numbers in each list are 3 and 5, a distance of 2.\n",
    "    Finally, the largest number in the left list is 4, while the largest number in the right list is 9; these are a distance 5 apart.\n",
    "\n",
    "To find the total distance between the left list and the right list, add up the distances between all of the pairs you found. In the example above, this is 2 + 1 + 0 + 1 + 2 + 5, a total distance of 11!\n",
    "\n",
    "Your actual left and right lists contain many location IDs. What is the total distance between your lists?\n",
    "\n",
    "Your puzzle answer was 2166959."
   ]
  },
  {
   "cell_type": "code",
   "execution_count": 41,
   "metadata": {},
   "outputs": [
    {
     "name": "stdout",
     "output_type": "stream",
     "text": [
      "left ['64256', '46941', '47111', '48819', '54871', '97276', '91790', '51405', '99980', '74608']\n",
      "right ['78813', '56838', '50531', '41511', '96958', '63446', '76995', '43195', '46417', '18059']\n",
      "sorted left [10030 10065 10146 10187 10193 10216 10250 10273 10283 10324]\n",
      "sorted right [10155 10254 10338 10519 11046 11155 11211 11257 11257 11257]\n",
      "differences: [125 189 192 332 853 939 961 984 974 933]\n",
      "Total difference: 2166959\n"
     ]
    }
   ],
   "source": [
    "import re\n",
    "import numpy as np\n",
    "\n",
    "with open('day1.txt') as file:\n",
    "    data = file.readlines()\n",
    "    data = [x.strip('\\n') for x in data]\n",
    "    list_1 = []\n",
    "    list_2 = []\n",
    "    for line in data:\n",
    "        first, second = re.match(r'(\\d{5})\\s*(\\d{5})', line).groups()\n",
    "        list_1.append(first)\n",
    "        list_2.append(second)\n",
    "\n",
    "sorted_1 = np.array(sorted(list_1)).astype('int')\n",
    "sorted_2 = np.array(sorted(list_2)).astype('int')\n",
    "diffs = np.abs(sorted_1 - sorted_2)\n",
    "total = diffs.sum()\n",
    "\n",
    "print('left', list_1[:10])\n",
    "print('right', list_2[:10])\n",
    "print('sorted left', sorted_1[:10])\n",
    "print('sorted right', sorted_2[:10])\n",
    "print('differences:', diffs[:10])\n",
    "print('Total difference:', total)"
   ]
  },
  {
   "cell_type": "markdown",
   "metadata": {},
   "source": [
    "Figure out exactly how often each number from the left list appears in the right list. \n",
    "\n",
    "Calculate a total similarity score by adding up each number in the left list after multiplying it by the number of times that number appears in the right list."
   ]
  },
  {
   "cell_type": "code",
   "execution_count": 54,
   "metadata": {},
   "outputs": [
    {
     "name": "stdout",
     "output_type": "stream",
     "text": [
      "23741109\n"
     ]
    }
   ],
   "source": [
    "sim_score = 0\n",
    "for num1 in sorted_1:\n",
    "    for num2 in sorted_2:\n",
    "        if num1 == num2:\n",
    "            sim_score += num1\n",
    "\n",
    "print(sim_score)"
   ]
  }
 ],
 "metadata": {
  "kernelspec": {
   "display_name": "Python 3",
   "language": "python",
   "name": "python3"
  },
  "language_info": {
   "codemirror_mode": {
    "name": "ipython",
    "version": 3
   },
   "file_extension": ".py",
   "mimetype": "text/x-python",
   "name": "python",
   "nbconvert_exporter": "python",
   "pygments_lexer": "ipython3",
   "version": "3.10.12"
  }
 },
 "nbformat": 4,
 "nbformat_minor": 2
}
