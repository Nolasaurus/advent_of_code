{
 "cells": [
  {
   "cell_type": "markdown",
   "metadata": {},
   "source": [
    "So, a report only counts as safe if both of the following are true:\n",
    "\n",
    "    The levels are either all increasing or all decreasing.\n",
    "    Any two adjacent levels differ by at least one and at most three."
   ]
  },
  {
   "cell_type": "code",
   "execution_count": null,
   "metadata": {},
   "outputs": [
    {
     "name": "stdout",
     "output_type": "stream",
     "text": [
      "should be True: False\n"
     ]
    }
   ],
   "source": [
    "import re\n",
    "import numpy as np\n",
    "\n",
    "with open('day2.txt') as file:\n",
    "    data = file.readlines()\n",
    "    data = [x.strip('\\n') for x in data]\n",
    "\n",
    "    # if x-1 == x or x+1 == x: return false\n",
    "    # sliding_window\n",
    "\n",
    "    # for level in data:\n",
    "\n",
    "        \n",
    "def sliding_window(level):\n",
    "    level = level.split()\n",
    "    level = [int(x) for x in level]\n",
    "    middle_digits = np.linspace(1, len(level)-1, num=len(level)-1)\n",
    "    for digit_index in middle_digits:\n",
    "        digit_index = int(digit_index)\n",
    "        prev_num = level[digit_index-1]\n",
    "        curr_num = level[digit_index]\n",
    "        next_num = level[digit_index+1]\n",
    "\n",
    "        if prev_num == curr_num or curr_num == next_num:\n",
    "            print('equal', prev_num, curr_num, next_num)\n",
    "            return False\n",
    "        \n",
    "        if np.abs(prev_num-curr_num)>3 or np.abs(next_num-curr_num)>3:\n",
    "            return False\n",
    "        \n",
    "        if prev_num > curr_num and not(curr_num > next_num):\n",
    "            # not decreasing\n",
    "            return False\n",
    "        \n",
    "        if prev_num < curr_num and not(curr_num < next_num):\n",
    "            # not increasing\n",
    "            return False\n",
    "\n",
    "    return True\n",
    "\n",
    "def is_increasing(level):\n",
    "    level = level.split()\n",
    "    level = [int(x) for x in level]\n",
    "    for i, num in enumerate(level):\n",
    "        if i > 0:\n",
    "            if level[i] <= level[i-1]:\n",
    "                print(level[i], level[i-1])\n",
    "                return False\n",
    "    \n",
    "    return True\n",
    "\n",
    "def is_decreasing(level):\n",
    "    level = level.split()\n",
    "    level = [int(x) for x in level]\n",
    "    for i, num in enumerate(level):\n",
    "        if i < (len(level)-1):\n",
    "            curr_num = level[i]\n",
    "            next_num = level[i+1]\n",
    "            if next_num >= curr_num:\n",
    "                return False\n",
    "    \n",
    "\n",
    "    return True\n",
    "\n",
    "# print(data)\n",
    "# level = '16 14 10 9 8 7 6 5 4 3 2 1'\n",
    "# print(is_increasing(level))\n",
    "# print(is_decreasing(level))\n",
    "\n",
    "print('should be True:', sliding_window(\"16 14 10 9 8 7 6 5 4 3 2 1\"))"
   ]
  },
  {
   "cell_type": "markdown",
   "metadata": {},
   "source": [
    "Figure out exactly how often each number from the left list appears in the right list. \n",
    "\n",
    "Calculate a total similarity score by adding up each number in the left list after multiplying it by the number of times that number appears in the right list."
   ]
  },
  {
   "cell_type": "code",
   "execution_count": 54,
   "metadata": {},
   "outputs": [
    {
     "name": "stdout",
     "output_type": "stream",
     "text": [
      "23741109\n"
     ]
    }
   ],
   "source": [
    "sim_score = 0\n",
    "for num1 in sorted_1:\n",
    "    for num2 in sorted_2:\n",
    "        if num1 == num2:\n",
    "            sim_score += num1\n",
    "\n",
    "print(sim_score)"
   ]
  }
 ],
 "metadata": {
  "kernelspec": {
   "display_name": "Python 3",
   "language": "python",
   "name": "python3"
  },
  "language_info": {
   "codemirror_mode": {
    "name": "ipython",
    "version": 3
   },
   "file_extension": ".py",
   "mimetype": "text/x-python",
   "name": "python",
   "nbconvert_exporter": "python",
   "pygments_lexer": "ipython3",
   "version": "3.10.12"
  }
 },
 "nbformat": 4,
 "nbformat_minor": 2
}
